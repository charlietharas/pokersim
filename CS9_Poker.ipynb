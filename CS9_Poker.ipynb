{
  "nbformat": 4,
  "nbformat_minor": 0,
  "metadata": {
    "colab": {
      "private_outputs": true,
      "provenance": [],
      "authorship_tag": "ABX9TyM+56a/Tw+Hdfj602OkFkRj"
    },
    "kernelspec": {
      "name": "python3",
      "display_name": "Python 3"
    },
    "language_info": {
      "name": "python"
    }
  },
  "cells": [
    {
      "cell_type": "code",
      "source": [
        "class_2 = {}"
      ],
      "metadata": {
        "id": "j6V0m0fLN4VU"
      },
      "execution_count": null,
      "outputs": []
    },
    {
      "cell_type": "code",
      "source": [
        "import game\n",
        "import itertools\n",
        "\n",
        "n = int(input(\"Run how many games per matchup? \"))\n",
        "\n",
        "all_winners = {key: 0 for key in class_2.keys()}\n",
        "for x in itertools.combinations(list(class_2.items()), 4):\n",
        "  name1, decide1 = x[0][0], x[0][1]\n",
        "  name2, decide2 = x[1][0], x[1][1]\n",
        "  name3, decide3 = x[2][0], x[2][1]\n",
        "  name4, decide4 = x[3][0], x[3][1]\n",
        "  winners = {name1 : 0, name2 : 0, name3 : 0, name4: 0}\n",
        "  for i in range(n):\n",
        "    game.game(winners, decide1, decide2, decide3, decide4)\n",
        "\n",
        "  for k, v in winners.items():\n",
        "    all_winners[k] += v"
      ],
      "metadata": {
        "id": "aARt58iCIVpJ"
      },
      "execution_count": null,
      "outputs": []
    },
    {
      "cell_type": "code",
      "source": [
        "print(dict(sorted(all_winners.items(), key=lambda item: item[1])))"
      ],
      "metadata": {
        "id": "CbWXuNSSIh1I"
      },
      "execution_count": null,
      "outputs": []
    }
  ]
}